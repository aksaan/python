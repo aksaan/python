{
  "nbformat": 4,
  "nbformat_minor": 0,
  "metadata": {
    "colab": {
      "provenance": []
    },
    "kernelspec": {
      "name": "python3",
      "display_name": "Python 3"
    },
    "language_info": {
      "name": "python"
    }
  },
  "cells": [
    {
      "cell_type": "code",
      "execution_count": null,
      "metadata": {
        "colab": {
          "base_uri": "https://localhost:8080/"
        },
        "id": "Lmoogc-vu48E",
        "outputId": "9e6ca75b-1ccd-429a-b030-cccdba18334d"
      },
      "outputs": [
        {
          "output_type": "execute_result",
          "data": {
            "text/plain": [
              "5"
            ]
          },
          "metadata": {},
          "execution_count": 1
        }
      ],
      "source": [
        "def s(a, b):\n",
        "  return a+b\n",
        "\n",
        "s(2, 3)"
      ]
    },
    {
      "cell_type": "code",
      "source": [
        "def avg(*numbers: float) -> float:\n",
        "  \"\"\"нахождение среднее арифметическое\"\"\"\n",
        "  s = 0\n",
        "  for number in numbers:\n",
        "    s += number\n",
        "  return s/len(numbers)\n",
        "\n",
        "avg(1, 2, 3, 4)"
      ],
      "metadata": {
        "colab": {
          "base_uri": "https://localhost:8080/"
        },
        "id": "ZRGpPtH-vMnj",
        "outputId": "eb29f70e-67b2-4705-e777-eb2c1beec027"
      },
      "execution_count": null,
      "outputs": [
        {
          "output_type": "execute_result",
          "data": {
            "text/plain": [
              "2.5"
            ]
          },
          "metadata": {},
          "execution_count": 4
        }
      ]
    },
    {
      "cell_type": "code",
      "source": [
        "s = lambda a,b : a+b\n",
        "s(2, 3)"
      ],
      "metadata": {
        "colab": {
          "base_uri": "https://localhost:8080/"
        },
        "id": "f9LiqpyZx83J",
        "outputId": "da7570c8-b8b8-47f9-a0cf-09894f471a13"
      },
      "execution_count": null,
      "outputs": [
        {
          "output_type": "execute_result",
          "data": {
            "text/plain": [
              "5"
            ]
          },
          "metadata": {},
          "execution_count": 5
        }
      ]
    },
    {
      "cell_type": "code",
      "source": [
        "s = lambda *numbers : sum(numbers) / len(numbers)\n",
        "s(1, 2, 3, 4)"
      ],
      "metadata": {
        "colab": {
          "base_uri": "https://localhost:8080/"
        },
        "id": "T8jO77ryyihB",
        "outputId": "bfcffdf2-de4d-4d25-f3b4-2f780ae247d2"
      },
      "execution_count": null,
      "outputs": [
        {
          "output_type": "execute_result",
          "data": {
            "text/plain": [
              "2.5"
            ]
          },
          "metadata": {},
          "execution_count": 6
        }
      ]
    },
    {
      "cell_type": "code",
      "source": [
        "numbers = list(map(int, input(\"Введите числа\").split()))\n",
        "print(numbers)\n",
        "new_numbers = list(filter(lambda number : number % 2 == 0, numbers))\n",
        "new_numbers"
      ],
      "metadata": {
        "colab": {
          "base_uri": "https://localhost:8080/"
        },
        "id": "PkKpQrgTzNYt",
        "outputId": "62cd19f8-b38c-4b66-a0e1-a935097f9745"
      },
      "execution_count": null,
      "outputs": [
        {
          "output_type": "stream",
          "name": "stdout",
          "text": [
            "Введите числа1 2 3 4 5\n",
            "[1, 2, 3, 4, 5]\n"
          ]
        },
        {
          "output_type": "execute_result",
          "data": {
            "text/plain": [
              "[2, 4]"
            ]
          },
          "metadata": {},
          "execution_count": 11
        }
      ]
    },
    {
      "cell_type": "code",
      "source": [
        "numbers = list(map(int, input(\"Введите числа\").split()))\n",
        "print(numbers)\n",
        "new_numbers = list(map(lambda number : number * 2, numbers))\n",
        "new_numbers"
      ],
      "metadata": {
        "colab": {
          "base_uri": "https://localhost:8080/"
        },
        "id": "cMgob_TB1TpW",
        "outputId": "de8cb794-167b-46ad-d6a9-4669219c4b2e"
      },
      "execution_count": null,
      "outputs": [
        {
          "output_type": "stream",
          "name": "stdout",
          "text": [
            "Введите числа1 2 3 4 5\n",
            "[1, 2, 3, 4, 5]\n"
          ]
        },
        {
          "output_type": "execute_result",
          "data": {
            "text/plain": [
              "[2, 4, 6, 8, 10]"
            ]
          },
          "metadata": {},
          "execution_count": 12
        }
      ]
    },
    {
      "cell_type": "code",
      "source": [
        "from functools import reduce\n",
        "numbers = list(map(int, input(\"Введите числа\").split()))\n",
        "s = reduce(lambda x, y: x + y, numbers)\n",
        "s"
      ],
      "metadata": {
        "colab": {
          "base_uri": "https://localhost:8080/"
        },
        "id": "5ibq2s3V1jCi",
        "outputId": "d1ae1b40-7270-4b82-b6d6-8f5d6d2e1cb9"
      },
      "execution_count": null,
      "outputs": [
        {
          "name": "stdout",
          "output_type": "stream",
          "text": [
            "Введите числа1 2 3 4\n"
          ]
        },
        {
          "output_type": "execute_result",
          "data": {
            "text/plain": [
              "10"
            ]
          },
          "metadata": {},
          "execution_count": 13
        }
      ]
    },
    {
      "cell_type": "code",
      "source": [
        "from functools import reduce\n",
        "numbers = list(map(int, input(\"Введите числа\").split()))\n",
        "s = reduce(lambda x, y: x + y, numbers)/ len(numbers)\n",
        "s"
      ],
      "metadata": {
        "colab": {
          "base_uri": "https://localhost:8080/"
        },
        "id": "2KYBkoTk2TeG",
        "outputId": "9a538f1d-a1b4-417f-fee8-6f224ce09631"
      },
      "execution_count": null,
      "outputs": [
        {
          "name": "stdout",
          "output_type": "stream",
          "text": [
            "Введите числа1 2 3 4\n"
          ]
        },
        {
          "output_type": "execute_result",
          "data": {
            "text/plain": [
              "2.5"
            ]
          },
          "metadata": {},
          "execution_count": 16
        }
      ]
    },
    {
      "cell_type": "code",
      "source": [
        "people = dict()\n",
        "str_d = \"\"\n",
        "while str_d != \"0\" :\n",
        "  str_d = input()\n",
        "  student, *marks = str_d.split()\n",
        "  people[student] = marks\n",
        "people"
      ],
      "metadata": {
        "colab": {
          "base_uri": "https://localhost:8080/"
        },
        "id": "_KtXkykd24k8",
        "outputId": "06c83256-06e5-42a5-c14c-669a442ec2c0"
      },
      "execution_count": null,
      "outputs": [
        {
          "name": "stdout",
          "output_type": "stream",
          "text": [
            "Иванов 90 80 79 63\n",
            "Петров 25 76 12 54\n",
            "0\n"
          ]
        },
        {
          "output_type": "execute_result",
          "data": {
            "text/plain": [
              "{'Иванов': ['90', '80', '79', '63'],\n",
              " 'Петров': ['25', '76', '12', '54'],\n",
              " '0': []}"
            ]
          },
          "metadata": {},
          "execution_count": 21
        }
      ]
    },
    {
      "cell_type": "markdown",
      "source": [
        "Пользователь вводит слова через пробел. Вывести список с длинами этих строк (используй map)"
      ],
      "metadata": {
        "id": "37jAMCokF9Ci"
      }
    },
    {
      "cell_type": "code",
      "source": [
        "words = list(input(\"Введите слова\").split())\n",
        "new_words = list(map(lambda word: len(word), words))\n",
        "new_words"
      ],
      "metadata": {
        "colab": {
          "base_uri": "https://localhost:8080/"
        },
        "id": "hMRrbw5cFpoD",
        "outputId": "9b708902-42a7-485d-9020-85a6bd12c366"
      },
      "execution_count": null,
      "outputs": [
        {
          "name": "stdout",
          "output_type": "stream",
          "text": [
            "Введите словамама папа слон\n"
          ]
        },
        {
          "output_type": "execute_result",
          "data": {
            "text/plain": [
              "[4, 4, 4]"
            ]
          },
          "metadata": {},
          "execution_count": 5
        }
      ]
    },
    {
      "cell_type": "markdown",
      "source": [
        "Написать функцию biggerThan(numbers, n), которая бы возвращала список чисел из numbers, больших чем n (lambda и filter)"
      ],
      "metadata": {
        "id": "vxiFsKWbJzYj"
      }
    },
    {
      "cell_type": "code",
      "source": [
        "def biggerThan(numbers, n):\n",
        "  numbers = list(filter(lambda number: number > n, numbers))\n",
        "  return numbers\n",
        "biggerThan([1, 2, 3, 4, 5], 3)"
      ],
      "metadata": {
        "colab": {
          "base_uri": "https://localhost:8080/"
        },
        "id": "NpO6K813J0Gn",
        "outputId": "12c0e20c-5a90-497d-c535-cb6850546e3d"
      },
      "execution_count": null,
      "outputs": [
        {
          "output_type": "execute_result",
          "data": {
            "text/plain": [
              "[4, 5]"
            ]
          },
          "metadata": {},
          "execution_count": 23
        }
      ]
    }
  ]
}