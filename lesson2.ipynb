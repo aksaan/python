{
  "nbformat": 4,
  "nbformat_minor": 0,
  "metadata": {
    "colab": {
      "provenance": []
    },
    "kernelspec": {
      "name": "python3",
      "display_name": "Python 3"
    },
    "language_info": {
      "name": "python"
    }
  },
  "cells": [
    {
      "cell_type": "markdown",
      "source": [
        "# numpy\n",
        "**numpy** - модуль, предоставляющий пре-компилируемые функции для работы с матемиатикой, а так же массивы и методы работы с ними"
      ],
      "metadata": {
        "id": "q7K29snx0WRD"
      }
    },
    {
      "cell_type": "code",
      "execution_count": null,
      "metadata": {
        "colab": {
          "base_uri": "https://localhost:8080/"
        },
        "id": "OPSJVT5Hx4nL",
        "outputId": "6c311653-7dfb-4231-9af8-106f46a9d7ab"
      },
      "outputs": [
        {
          "output_type": "execute_result",
          "data": {
            "text/plain": [
              "array([1, 4, 3, 4, 5])"
            ]
          },
          "metadata": {},
          "execution_count": 6
        }
      ],
      "source": [
        "import numpy as np\n",
        "#одномерный массив из целых чисел\n",
        "a = np.array([1, 2, 3, 4, 5], int)\n",
        "a[1] = 4\n",
        "a"
      ]
    },
    {
      "cell_type": "code",
      "source": [
        "b = np.array([[1, 2, 3, 0], [1, 2, 3, 4]], int)\n",
        "print(b)\n",
        "b.shape"
      ],
      "metadata": {
        "colab": {
          "base_uri": "https://localhost:8080/"
        },
        "id": "yxe6Z1Vh1bZY",
        "outputId": "8d216305-3adb-4691-e08f-71b071babf03"
      },
      "execution_count": null,
      "outputs": [
        {
          "output_type": "stream",
          "name": "stdout",
          "text": [
            "[[1 2 3 0]\n",
            " [1 2 3 4]]\n"
          ]
        },
        {
          "output_type": "execute_result",
          "data": {
            "text/plain": [
              "(2, 4)"
            ]
          },
          "metadata": {},
          "execution_count": 17
        }
      ]
    },
    {
      "cell_type": "code",
      "source": [
        "x = np.array([1, 2, 3, 4, 5], int)\n",
        "y = np.array([7, 8, 9, 0, 6], int)\n",
        "print(x + y)\n",
        "np.concatenate((x, y))"
      ],
      "metadata": {
        "colab": {
          "base_uri": "https://localhost:8080/"
        },
        "id": "GMo6UZri2bxr",
        "outputId": "c0e49f08-862f-4eff-8de5-98002e66f1f0"
      },
      "execution_count": null,
      "outputs": [
        {
          "output_type": "stream",
          "name": "stdout",
          "text": [
            "[ 8 10 12  4 11]\n"
          ]
        },
        {
          "output_type": "execute_result",
          "data": {
            "text/plain": [
              "array([1, 2, 3, 4, 5, 7, 8, 9, 0, 6])"
            ]
          },
          "metadata": {},
          "execution_count": 31
        }
      ]
    },
    {
      "cell_type": "code",
      "source": [
        "x = np.array([1, 2, 3, 4, 5], int)\n",
        "y = np.array([7, 8, 9, 0, 5], int)\n",
        "print(x + y)\n",
        "print(x * y)"
      ],
      "metadata": {
        "colab": {
          "base_uri": "https://localhost:8080/"
        },
        "id": "zM3voHgw5AjD",
        "outputId": "5f92483c-503a-4104-c916-85e1f466e459"
      },
      "execution_count": null,
      "outputs": [
        {
          "output_type": "stream",
          "name": "stdout",
          "text": [
            "[ 8 10 12  4 10]\n",
            "[ 7 16 27  0 25]\n"
          ]
        }
      ]
    },
    {
      "cell_type": "code",
      "source": [
        "x = np.array([1, 2, 3, 4, 5], int)\n",
        "y = np.array([7, 8, 9, 0, 5], int)\n",
        "print(x.max()+y.max())\n",
        "print(x.min()+y.min())"
      ],
      "metadata": {
        "colab": {
          "base_uri": "https://localhost:8080/"
        },
        "id": "FiknWxbJ6EqV",
        "outputId": "3416699a-bbe3-4ba1-de00-886d30829364"
      },
      "execution_count": null,
      "outputs": [
        {
          "output_type": "stream",
          "name": "stdout",
          "text": [
            "14\n",
            "1\n"
          ]
        }
      ]
    },
    {
      "cell_type": "code",
      "source": [
        "x1 = np.array([[1, 2, 3, 0], [1, 6, 4, 4]], int)\n",
        "x2 = np.array([[1, 2, 3, 0], [1, 2, 3, 4]], int)\n",
        "print(x1)\n",
        "print(x2)\n",
        "print(x1 + x2)"
      ],
      "metadata": {
        "colab": {
          "base_uri": "https://localhost:8080/"
        },
        "id": "JUA77e3l6YZL",
        "outputId": "433a91ee-7b67-4c19-c934-839eea43fac6"
      },
      "execution_count": null,
      "outputs": [
        {
          "output_type": "stream",
          "name": "stdout",
          "text": [
            "[[1 2 3 0]\n",
            " [1 6 4 4]]\n",
            "[[1 2 3 0]\n",
            " [1 2 3 4]]\n",
            "[[2 4 6 0]\n",
            " [2 8 7 8]]\n"
          ]
        }
      ]
    },
    {
      "cell_type": "code",
      "source": [
        "x1 = np.array([[1, 2, 3, 0], [1, 6, 4, 4]], int)\n",
        "x2 = np.array([[1, 2, 3, 0], [1, 2, 3, 4]], int)\n",
        "print(x1.mean())\n",
        "print(x2.mean())"
      ],
      "metadata": {
        "colab": {
          "base_uri": "https://localhost:8080/"
        },
        "id": "6JbcAlLw65U2",
        "outputId": "93c2ca40-1cd8-4d59-c968-2a4f729c2d05"
      },
      "execution_count": null,
      "outputs": [
        {
          "output_type": "stream",
          "name": "stdout",
          "text": [
            "2.625\n",
            "2.0\n"
          ]
        }
      ]
    },
    {
      "cell_type": "markdown",
      "source": [
        "##Задача 1\n",
        "Найти сумму всех четных чисел от 1 до 100"
      ],
      "metadata": {
        "id": "Chhs-GM47ZC1"
      }
    },
    {
      "cell_type": "code",
      "source": [
        "numbers = np.arange(2, 101, 2)\n",
        "numbers.sum()"
      ],
      "metadata": {
        "colab": {
          "base_uri": "https://localhost:8080/"
        },
        "id": "8iSmHH2X8D5A",
        "outputId": "eae01689-3acf-4707-e328-b211a3283dbd"
      },
      "execution_count": null,
      "outputs": [
        {
          "output_type": "execute_result",
          "data": {
            "text/plain": [
              "2550"
            ]
          },
          "metadata": {},
          "execution_count": 56
        }
      ]
    },
    {
      "cell_type": "markdown",
      "source": [
        "Создать матрицу 5х5, заполненную случайными числами"
      ],
      "metadata": {
        "id": "NfNeQcpg8y-9"
      }
    },
    {
      "cell_type": "code",
      "source": [
        "numbers = np.random.randint(5, size = (5,5))\n",
        "numbers"
      ],
      "metadata": {
        "colab": {
          "base_uri": "https://localhost:8080/"
        },
        "id": "Jom8jVGX8kdY",
        "outputId": "66b17842-df0a-4956-faee-68844f1444ec"
      },
      "execution_count": null,
      "outputs": [
        {
          "output_type": "execute_result",
          "data": {
            "text/plain": [
              "array([[4, 3, 3, 0, 4],\n",
              "       [2, 2, 1, 4, 3],\n",
              "       [1, 4, 4, 0, 2],\n",
              "       [4, 3, 3, 1, 1],\n",
              "       [0, 1, 1, 0, 0]])"
            ]
          },
          "metadata": {},
          "execution_count": 66
        }
      ]
    }
  ]
}